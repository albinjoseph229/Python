{
 "cells": [
  {
   "cell_type": "code",
   "execution_count": 42,
   "id": "0d19fc9e",
   "metadata": {},
   "outputs": [],
   "source": [
    "import pandas as pd\n",
    "import numpy as np"
   ]
  },
  {
   "cell_type": "code",
   "execution_count": 43,
   "id": "46d3b5a8",
   "metadata": {},
   "outputs": [],
   "source": [
    "data = {\n",
    "    'Name':['albin','alfia','anjaleena'],\n",
    "    'Age':[21,25,27],\n",
    "    'City':['London','aluva','fort']\n",
    "};"
   ]
  },
  {
   "cell_type": "code",
   "execution_count": 44,
   "id": "96e2814b",
   "metadata": {},
   "outputs": [
    {
     "name": "stdout",
     "output_type": "stream",
     "text": [
      "{'Name': ['albin', 'alfia', 'anjaleena'], 'Age': [21, 25, 27], 'City': ['London', 'aluva', 'fort']}\n"
     ]
    }
   ],
   "source": [
    "print(data)"
   ]
  },
  {
   "cell_type": "code",
   "execution_count": 45,
   "id": "61abf71c",
   "metadata": {},
   "outputs": [
    {
     "name": "stdout",
     "output_type": "stream",
     "text": [
      "        Name  Age    City\n",
      "0      albin   21  London\n",
      "1      alfia   25   aluva\n",
      "2  anjaleena   27    fort\n"
     ]
    }
   ],
   "source": [
    "df=pd.DataFrame(data)\n",
    "print(df)"
   ]
  },
  {
   "cell_type": "code",
   "execution_count": 46,
   "id": "c37e98df",
   "metadata": {},
   "outputs": [
    {
     "name": "stdout",
     "output_type": "stream",
     "text": [
      "     Name  Age         City\n",
      "0   sarah   22        kochi\n",
      "1   alfia   22        aluva\n",
      "2  joseph   22  kalamaserry\n"
     ]
    }
   ],
   "source": [
    "data1 = ['sarah',22,'kochi'],['alfia',22,'aluva'],['joseph',22,'kalamaserry']\n",
    "df1 = pd.DataFrame(data1, columns=['Name','Age','City'])\n",
    "print(df1)"
   ]
  },
  {
   "cell_type": "code",
   "execution_count": 40,
   "id": "fdcf3d2d",
   "metadata": {},
   "outputs": [
    {
     "name": "stdout",
     "output_type": "stream",
     "text": [
      "   ID            Name                       Email  Age      Country\n",
      "0   1        John Doe        john.doe@example.com   28          USA\n",
      "1   2      Jane Smith      jane.smith@example.com   34       Canada\n",
      "2   3    Robert Brown    robert.brown@example.com   45           UK\n",
      "3   4     Emily Davis     emily.davis@example.com   30    Australia\n",
      "4   5  Michael Wilson  michael.wilson@example.com   27  New Zealand\n"
     ]
    }
   ],
   "source": [
    "df=pd.read_csv('data.csv')\n",
    "print(df.head())"
   ]
  },
  {
   "cell_type": "code",
   "execution_count": 41,
   "id": "6eb91abb",
   "metadata": {},
   "outputs": [
    {
     "name": "stdout",
     "output_type": "stream",
     "text": [
      "(100, 5)\n",
      "Index(['ID', 'Name', 'Email', 'Age', 'Country'], dtype='object')\n"
     ]
    }
   ],
   "source": [
    "df=pd.read_csv('data.csv')\n",
    "print(df.shape)\n",
    "print(df.columns)"
   ]
  },
  {
   "cell_type": "code",
   "execution_count": 47,
   "id": "930efe73",
   "metadata": {},
   "outputs": [
    {
     "name": "stdout",
     "output_type": "stream",
     "text": [
      "<class 'pandas.core.frame.DataFrame'>\n",
      "RangeIndex: 3 entries, 0 to 2\n",
      "Data columns (total 3 columns):\n",
      " #   Column  Non-Null Count  Dtype \n",
      "---  ------  --------------  ----- \n",
      " 0   Name    3 non-null      object\n",
      " 1   Age     3 non-null      int64 \n",
      " 2   City    3 non-null      object\n",
      "dtypes: int64(1), object(2)\n",
      "memory usage: 200.0+ bytes\n",
      "None\n"
     ]
    }
   ],
   "source": [
    "print(df.info())"
   ]
  }
 ],
 "metadata": {
  "kernelspec": {
   "display_name": "Python 3 (ipykernel)",
   "language": "python",
   "name": "python3"
  },
  "language_info": {
   "codemirror_mode": {
    "name": "ipython",
    "version": 3
   },
   "file_extension": ".py",
   "mimetype": "text/x-python",
   "name": "python",
   "nbconvert_exporter": "python",
   "pygments_lexer": "ipython3",
   "version": "3.10.3"
  }
 },
 "nbformat": 4,
 "nbformat_minor": 5
}
