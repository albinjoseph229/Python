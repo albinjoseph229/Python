{
 "cells": [
  {
   "cell_type": "code",
   "execution_count": 1,
   "id": "0d19fc9e",
   "metadata": {},
   "outputs": [],
   "source": [
    "import pandas as pd\n",
    "import numpy as np"
   ]
  },
  {
   "cell_type": "code",
   "execution_count": 2,
   "id": "46d3b5a8",
   "metadata": {},
   "outputs": [],
   "source": [
    "data = {\n",
    "    'Name':['albin','alfia','anjaleena'],\n",
    "    'Age':[21,25,27],\n",
    "    'City':['London','aluva','fort']\n",
    "};"
   ]
  },
  {
   "cell_type": "code",
   "execution_count": 3,
   "id": "96e2814b",
   "metadata": {},
   "outputs": [
    {
     "name": "stdout",
     "output_type": "stream",
     "text": [
      "{'Name': ['albin', 'alfia', 'anjaleena'], 'Age': [21, 25, 27], 'City': ['London', 'aluva', 'fort']}\n"
     ]
    }
   ],
   "source": [
    "print(data)"
   ]
  },
  {
   "cell_type": "code",
   "execution_count": 4,
   "id": "61abf71c",
   "metadata": {},
   "outputs": [
    {
     "name": "stdout",
     "output_type": "stream",
     "text": [
      "        Name  Age    City\n",
      "0      albin   21  London\n",
      "1      alfia   25   aluva\n",
      "2  anjaleena   27    fort\n"
     ]
    }
   ],
   "source": [
    "df=pd.DataFrame(data)\n",
    "print(df)"
   ]
  },
  {
   "cell_type": "code",
   "execution_count": 5,
   "id": "c37e98df",
   "metadata": {},
   "outputs": [
    {
     "name": "stdout",
     "output_type": "stream",
     "text": [
      "     Name  Age         City\n",
      "0   sarah   22        kochi\n",
      "1   alfia   22        aluva\n",
      "2  joseph   22  kalamaserry\n"
     ]
    }
   ],
   "source": [
    "data1 = ['sarah',22,'kochi'],['alfia',22,'aluva'],['joseph',22,'kalamaserry']\n",
    "df1 = pd.DataFrame(data1, columns=['Name','Age','City'])\n",
    "print(df1)"
   ]
  },
  {
   "cell_type": "code",
   "execution_count": 6,
   "id": "fdcf3d2d",
   "metadata": {},
   "outputs": [
    {
     "name": "stdout",
     "output_type": "stream",
     "text": [
      "   ID            Name                       Email  Age      Country\n",
      "0   1        John Doe        john.doe@example.com   28          USA\n",
      "1   2      Jane Smith      jane.smith@example.com   34       Canada\n",
      "2   3    Robert Brown    robert.brown@example.com   45           UK\n",
      "3   4     Emily Davis     emily.davis@example.com   30    Australia\n",
      "4   5  Michael Wilson  michael.wilson@example.com   27  New Zealand\n"
     ]
    }
   ],
   "source": [
    "df=pd.read_csv('data.csv')\n",
    "print(df.head())"
   ]
  },
  {
   "cell_type": "code",
   "execution_count": 7,
   "id": "6eb91abb",
   "metadata": {},
   "outputs": [
    {
     "name": "stdout",
     "output_type": "stream",
     "text": [
      "(100, 5)\n",
      "Index(['ID', 'Name', 'Email', 'Age', 'Country'], dtype='object')\n"
     ]
    }
   ],
   "source": [
    "df=pd.read_csv('data.csv')\n",
    "print(df.shape)\n",
    "print(df.columns)"
   ]
  },
  {
   "cell_type": "code",
   "execution_count": 8,
   "id": "930efe73",
   "metadata": {},
   "outputs": [
    {
     "name": "stdout",
     "output_type": "stream",
     "text": [
      "<class 'pandas.core.frame.DataFrame'>\n",
      "RangeIndex: 100 entries, 0 to 99\n",
      "Data columns (total 5 columns):\n",
      " #   Column   Non-Null Count  Dtype \n",
      "---  ------   --------------  ----- \n",
      " 0   ID       100 non-null    int64 \n",
      " 1   Name     100 non-null    object\n",
      " 2   Email    100 non-null    object\n",
      " 3   Age      100 non-null    int64 \n",
      " 4   Country  100 non-null    object\n",
      "dtypes: int64(2), object(3)\n",
      "memory usage: 4.0+ KB\n",
      "None\n"
     ]
    }
   ],
   "source": [
    "df=pd.read_csv('data.csv')\n",
    "print(df.info())"
   ]
  },
  {
   "cell_type": "code",
   "execution_count": 9,
   "id": "4f37f358",
   "metadata": {},
   "outputs": [
    {
     "data": {
      "image/png": "[encoded data removed]",
      "text/plain": [
       "<Figure size 640x480 with 1 Axes>"
      ]
     },
     "metadata": {},
     "output_type": "display_data"
    }
   ],
   "source": [
    "# prompt: histogram\n",
    "\n",
    "import matplotlib.pyplot as plt\n",
    "import numpy as np\n",
    "\n",
    "# generate some random data for the histogram\n",
    "data = np.random.randn(1000)\n",
    "\n",
    "plt.hist(data, bins=30, color='red', alpha=0.7, label='Histogram')\n",
    "plt.legend()\n",
    "plt.title('Histogram')\n",
    "plt.xlabel('Values')\n",
    "plt.ylabel('Frequency')\n",
    "plt.show()\n"
   ]
  }
 ],
 "metadata": {
  "kernelspec": {
   "display_name": "Python 3 (ipykernel)",
   "language": "python",
   "name": "python3"
  },
  "language_info": {
   "codemirror_mode": {
    "name": "ipython",
    "version": 3
   },
   "file_extension": ".py",
   "mimetype": "text/x-python",
   "name": "python",
   "nbconvert_exporter": "python",
   "pygments_lexer": "ipython3",
   "version": "3.10.3"
  }
 },
 "nbformat": 4,
 "nbformat_minor": 5
}
