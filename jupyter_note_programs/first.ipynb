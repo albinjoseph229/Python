{
 "cells": [
  {
   "cell_type": "code",
   "execution_count": 3,
   "metadata": {},
   "outputs": [
    {
     "name": "stdout",
     "output_type": "stream",
     "text": [
      "[1 2 3 4 5]\n"
     ]
    }
   ],
   "source": [
    "import numpy as np # type: ignore\n",
    "arr = np.array([1, 2, 3, 4, 5])\n",
    "print(arr)\n"
   ]
  },
  {
   "cell_type": "code",
   "execution_count": 6,
   "metadata": {},
   "outputs": [
    {
     "name": "stdout",
     "output_type": "stream",
     "text": [
      "0D Array:\n",
      "42\n",
      "1D Array:\n",
      "[ 6  7  8  9 10]\n",
      "2D Array:\n",
      "[[11 12 13]\n",
      " [14 15 16]]\n"
     ]
    }
   ],
   "source": [
    "import numpy as np # type: ignore\n",
    "\n",
    "# Create a 0D array\n",
    "arr_0d = np.array(42)\n",
    "print(\"0D Array:\")\n",
    "print(arr_0d)\n",
    "\n",
    "# Create a 1D array\n",
    "arr_1d = np.array([6, 7, 8, 9, 10])\n",
    "print(\"1D Array:\")\n",
    "print(arr_1d)\n",
    "\n",
    "# Create a 2D array\n",
    "arr_2d = np.array([[11, 12, 13],[14, 15, 16]])\n",
    "print(\"2D Array:\")\n",
    "print(arr_2d)"
   ]
  }
 ],
 "metadata": {
  "kernelspec": {
   "display_name": "Python 3",
   "language": "python",
   "name": "python3"
  },
  "language_info": {
   "codemirror_mode": {
    "name": "ipython",
    "version": 3
   },
   "file_extension": ".py",
   "mimetype": "text/x-python",
   "name": "python",
   "nbconvert_exporter": "python",
   "pygments_lexer": "ipython3",
   "version": "3.10.3"
  }
 },
 "nbformat": 4,
 "nbformat_minor": 2
}
