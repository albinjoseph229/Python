{
 "cells": [
  {
   "cell_type": "code",
   "execution_count": 7,
   "metadata": {},
   "outputs": [
    {
     "name": "stdout",
     "output_type": "stream",
     "text": [
      "[1 2 3 4 5]\n"
     ]
    }
   ],
   "source": [
    "import numpy as np # type: ignore\n",
    "arr = np.array([1, 2, 3, 4, 5])\n",
    "print(arr)\n"
   ]
  },
  {
   "cell_type": "code",
   "execution_count": 8,
   "metadata": {},
   "outputs": [
    {
     "name": "stdout",
     "output_type": "stream",
     "text": [
      "0D Array:\n",
      "42\n",
      "1D Array:\n",
      "[ 6  7  8  9 10]\n",
      "2D Array:\n",
      "[[11 12 13]\n",
      " [14 15 16]]\n",
      "3D Array:\n",
      "[[11 12 13]\n",
      " [14 15 16]\n",
      " [17 18 19]]\n",
      "4D Array:\n",
      "[[11 12 13]\n",
      " [14 15 16]\n",
      " [17 18 19]\n",
      " [20 21 22]]\n",
      "5D Array:\n",
      "[[11 12 13]\n",
      " [14 15 16]\n",
      " [17 18 19]\n",
      " [20 21 22]\n",
      " [23 24 25]]\n"
     ]
    }
   ],
   "source": [
    "import numpy as np # type: ignore\n",
    "\n",
    "# Create a 0D array\n",
    "arr_0d = np.array(42)\n",
    "print(\"0D Array:\")\n",
    "print(arr_0d)\n",
    "\n",
    "# Create a 1D array\n",
    "arr_1d = np.array([6, 7, 8, 9, 10])\n",
    "print(\"1D Array:\")\n",
    "print(arr_1d)\n",
    "\n",
    "# Create a 2D array\n",
    "arr_2d = np.array([[11, 12, 13],[14, 15, 16]])\n",
    "print(\"2D Array:\")\n",
    "print(arr_2d)\n",
    "\n",
    "# Create a 3D array\n",
    "arr_3d = np.array([[11, 12, 13],[14, 15, 16],[17, 18, 19]])\n",
    "print(\"3D Array:\")\n",
    "print(arr_3d)\n",
    "\n",
    "# Create a 4D array\n",
    "arr_4d = np.array([[11, 12, 13],[14, 15, 16],[17, 18, 19],[20, 21, 22]])\n",
    "print(\"4D Array:\")\n",
    "print(arr_4d)\n",
    "\n",
    "# Create a 5D array\n",
    "arr_5d = np.array([[11, 12, 13],[14, 15, 16],[17, 18, 19],[20, 21, 22],[23, 24, 25]])\n",
    "print(\"5D Array:\")\n",
    "print(arr_5d)"
   ]
  }
 ],
 "metadata": {
  "kernelspec": {
   "display_name": "Python 3",
   "language": "python",
   "name": "python3"
  },
  "language_info": {
   "codemirror_mode": {
    "name": "ipython",
    "version": 3
   },
   "file_extension": ".py",
   "mimetype": "text/x-python",
   "name": "python",
   "nbconvert_exporter": "python",
   "pygments_lexer": "ipython3",
   "version": "3.10.3"
  }
 },
 "nbformat": 4,
 "nbformat_minor": 2
}
