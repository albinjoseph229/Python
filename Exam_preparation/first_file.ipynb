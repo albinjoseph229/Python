{
 "cells": [
  {
   "cell_type": "code",
   "execution_count": 3,
   "id": "5b0899df-d69f-4198-8e5e-dbdffac52bf3",
   "metadata": {},
   "outputs": [
    {
     "name": "stdout",
     "output_type": "stream",
     "text": [
      "   Pregnant  Glucose  Diastolic_BP  Skin_Fold  Serum_Insulin   BMI  \\\n",
      "0         6    148.0          72.0       35.0            NaN  33.6   \n",
      "1         1     85.0          66.0       29.0            NaN  26.6   \n",
      "2         8    183.0          64.0        NaN            NaN  23.3   \n",
      "3         1     89.0          66.0       23.0           94.0  28.1   \n",
      "4         0    137.0          40.0       35.0          168.0  43.1   \n",
      "\n",
      "   Diabetes_Pedigree  Age  Class  \n",
      "0              0.627   50      1  \n",
      "1              0.351   31      0  \n",
      "2              0.672   32      1  \n",
      "3              0.167   21      0  \n",
      "4              2.288   33      1  \n",
      "         Pregnant     Glucose  Diastolic_BP   Skin_Fold  Serum_Insulin  \\\n",
      "count  768.000000  763.000000    733.000000  541.000000     394.000000   \n",
      "mean     3.845052  121.686763     72.405184   29.153420     155.548223   \n",
      "std      3.369578   30.535641     12.382158   10.476982     118.775855   \n",
      "min      0.000000   44.000000     24.000000    7.000000      14.000000   \n",
      "25%      1.000000   99.000000     64.000000   22.000000      76.250000   \n",
      "50%      3.000000  117.000000     72.000000   29.000000     125.000000   \n",
      "75%      6.000000  141.000000     80.000000   36.000000     190.000000   \n",
      "max     17.000000  199.000000    122.000000   99.000000     846.000000   \n",
      "\n",
      "              BMI  Diabetes_Pedigree         Age       Class  \n",
      "count  757.000000         768.000000  768.000000  768.000000  \n",
      "mean    32.457464           0.471876   33.240885    0.348958  \n",
      "std      6.924988           0.331329   11.760232    0.476951  \n",
      "min     18.200000           0.078000   21.000000    0.000000  \n",
      "25%     27.500000           0.243750   24.000000    0.000000  \n",
      "50%     32.300000           0.372500   29.000000    0.000000  \n",
      "75%     36.600000           0.626250   41.000000    1.000000  \n",
      "max     67.100000           2.420000   81.000000    1.000000  \n",
      "<class 'pandas.core.frame.DataFrame'>\n",
      "RangeIndex: 768 entries, 0 to 767\n",
      "Data columns (total 9 columns):\n",
      " #   Column             Non-Null Count  Dtype  \n",
      "---  ------             --------------  -----  \n",
      " 0   Pregnant           768 non-null    int64  \n",
      " 1   Glucose            763 non-null    float64\n",
      " 2   Diastolic_BP       733 non-null    float64\n",
      " 3   Skin_Fold          541 non-null    float64\n",
      " 4   Serum_Insulin      394 non-null    float64\n",
      " 5   BMI                757 non-null    float64\n",
      " 6   Diabetes_Pedigree  768 non-null    float64\n",
      " 7   Age                768 non-null    int64  \n",
      " 8   Class              768 non-null    int64  \n",
      "dtypes: float64(6), int64(3)\n",
      "memory usage: 54.1 KB\n",
      "None\n"
     ]
    }
   ],
   "source": [
    "import pandas as pd\n",
    "\n",
    "# Load dataset\n",
    "df = pd.read_csv('diabetes.csv')\n",
    "\n",
    "# View first few rows\n",
    "print(df.head())\n",
    "\n",
    "# Summary statistics\n",
    "print(df.describe())\n",
    "\n",
    "# Data info\n",
    "print(df.info())\n"
   ]
  },
  {
   "cell_type": "code",
   "execution_count": 4,
   "id": "883cb63f-ebaf-43ae-b227-9b3803679c70",
   "metadata": {},
   "outputs": [
    {
     "name": "stdout",
     "output_type": "stream",
     "text": [
      "Missing values in each column:\n",
      "Pregnant               0\n",
      "Glucose                5\n",
      "Diastolic_BP          35\n",
      "Skin_Fold            227\n",
      "Serum_Insulin        374\n",
      "BMI                   11\n",
      "Diabetes_Pedigree      0\n",
      "Age                    0\n",
      "Class                  0\n",
      "dtype: int64\n"
     ]
    }
   ],
   "source": [
    "\n",
    "\n",
    "# Check for missing values in each column\n",
    "print(\"Missing values in each column:\")\n",
    "print(df.isnull().sum())\n"
   ]
  },
  {
   "cell_type": "code",
   "execution_count": 5,
   "id": "cb8e390a-a770-404b-a14e-af644b7f732e",
   "metadata": {},
   "outputs": [
    {
     "name": "stdout",
     "output_type": "stream",
     "text": [
      "Pregnant             0\n",
      "Glucose              0\n",
      "Diastolic_BP         0\n",
      "Skin_Fold            0\n",
      "Serum_Insulin        0\n",
      "BMI                  0\n",
      "Diabetes_Pedigree    0\n",
      "Age                  0\n",
      "Class                0\n",
      "dtype: int64\n"
     ]
    }
   ],
   "source": [
    "# Drop rows with missing values\n",
    "df_cleaned = df.dropna()\n",
    "\n",
    "# Check if missing values remain\n",
    "print(df_cleaned.isnull().sum())\n"
   ]
  },
  {
   "cell_type": "code",
   "execution_count": 9,
   "id": "c88e92df-2572-4a2d-9587-29aa72fdea1c",
   "metadata": {},
   "outputs": [
    {
     "name": "stdout",
     "output_type": "stream",
     "text": [
      "Pregnant             0\n",
      "Glucose              5\n",
      "Diastolic_BP         0\n",
      "Skin_Fold            0\n",
      "Serum_Insulin        0\n",
      "BMI                  0\n",
      "Diabetes_Pedigree    0\n",
      "Age                  0\n",
      "Class                0\n",
      "dtype: int64\n"
     ]
    }
   ],
   "source": [
    "# Fill missing values in a specific column with the mean\n",
    "\n",
    "df['Serum_Insulin'] = df['Serum_Insulin'].fillna(df['Serum_Insulin'].mean())\n",
    "df['Skin_Fold'] = df['Skin_Fold'].fillna(df['Skin_Fold'].mean())\n",
    "df['BMI'] = df['BMI'].fillna(df['BMI'].mean())\n",
    "df['Diastolic_BP'] = df['Diastolic_BP'].fillna(df['Diastolic_BP'].mean())\n",
    "\n",
    "#  Fill missing values in a specific column with a fixed value (e.g., 0)\n",
    "# df['AnotherColumn'].fillna(0, inplace=True)\n",
    "\n",
    "# Verify that missing values are handled\n",
    "print(df.isnull().sum())\n"
   ]
  },
  {
   "cell_type": "code",
   "execution_count": 10,
   "id": "3aa6d7b6-0190-457a-adb0-666413266ba5",
   "metadata": {},
   "outputs": [
    {
     "name": "stdout",
     "output_type": "stream",
     "text": [
      "Number of duplicate rows: 0\n",
      "Number of duplicate rows after cleaning: 0\n"
     ]
    }
   ],
   "source": [
    "# Check for duplicates\n",
    "print(\"Number of duplicate rows:\", df.duplicated().sum())\n",
    "\n",
    "# Remove duplicates\n",
    "df_no_duplicates = df.drop_duplicates()\n",
    "\n",
    "# Verify duplicates are removed\n",
    "print(\"Number of duplicate rows after cleaning:\", df_no_duplicates.duplicated().sum())\n"
   ]
  },
  {
   "cell_type": "code",
   "execution_count": null,
   "id": "415ee477-5f0a-44d9-86bd-5294481e1a94",
   "metadata": {},
   "outputs": [],
   "source": []
  }
 ],
 "metadata": {
  "kernelspec": {
   "display_name": "Python 3 (ipykernel)",
   "language": "python",
   "name": "python3"
  },
  "language_info": {
   "codemirror_mode": {
    "name": "ipython",
    "version": 3
   },
   "file_extension": ".py",
   "mimetype": "text/x-python",
   "name": "python",
   "nbconvert_exporter": "python",
   "pygments_lexer": "ipython3",
   "version": "3.12.1"
  }
 },
 "nbformat": 4,
 "nbformat_minor": 5
}
